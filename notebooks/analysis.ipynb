{
 "cells": [
  {
   "cell_type": "code",
   "execution_count": null,
   "id": "52466c16",
   "metadata": {},
   "outputs": [],
   "source": [
    "import pandas as pd\n",
    "import matplotlib.pyplot as plt\n",
    "import seaborn as sns\n",
    "\n",
    "# Load CSV\n",
    "data = pd.read_csv(\"../data/survey_data.csv\")\n",
    "\n",
    "# Visualization 1: Ages with the Highest Income\n",
    "plt.figure(figsize=(10, 6))\n",
    "sns.barplot(x=\"age\", y=\"total_income\", data=data)\n",
    "plt.title(\"Ages with the Highest Income\")\n",
    "plt.savefig(\"../charts/ages_income.png\")\n",
    "\n",
    "# Visualization 2: Gender Distribution Across Spending Categories\n",
    "spending = data.melt(id_vars=[\"gender\"], value_vars=[\"Utilities\", \"Entertainment\", \"School Fees\", \"Shopping\", \"Healthcare\"])\n",
    "plt.figure(figsize=(10, 6))\n",
    "sns.boxplot(x=\"variable\", y=\"value\", hue=\"gender\", data=spending)\n",
    "plt.title(\"Gender Distribution Across Spending Categories\")\n",
    "plt.savefig(\"../charts/gender_spending.png\")"
   ]
  }
 ],
 "metadata": {
  "kernelspec": {
   "display_name": ".venv",
   "language": "python",
   "name": "python3"
  },
  "language_info": {
   "name": "python",
   "version": "3.13.2"
  }
 },
 "nbformat": 4,
 "nbformat_minor": 5
}
